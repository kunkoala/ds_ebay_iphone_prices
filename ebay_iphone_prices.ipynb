{
 "cells": [
  {
   "cell_type": "markdown",
   "id": "adca90e3",
   "metadata": {},
   "source": [
    "# === Personal Project ===\n",
    "# eBay IPhone 14 Prices Prediction\n",
    "This is a project for my Data Science Portofolio, currently ongoing.\n",
    "\n",
    "Date: 11.27.2023"
   ]
  },
  {
   "cell_type": "code",
   "execution_count": 1,
   "id": "32d58d3d",
   "metadata": {},
   "outputs": [],
   "source": [
    "import pandas as pd\n",
    "import numpy as np\n",
    "import matplotlib.pyplot as plt\n",
    "import seaborn as sns"
   ]
  },
  {
   "cell_type": "code",
   "execution_count": 2,
   "id": "559674e6",
   "metadata": {},
   "outputs": [],
   "source": [
    "# Set up pandas\n",
    "pd.set_option('display.max_colwidth', None)\n",
    "# pd.set_option('display.max_rows', None)"
   ]
  },
  {
   "cell_type": "markdown",
   "id": "c3015f39",
   "metadata": {},
   "source": [
    "# 1. Load Dataframe\n",
    "-> iPhone 14 Pro Max Prices"
   ]
  },
  {
   "cell_type": "code",
   "execution_count": 3,
   "id": "6bcb8d00",
   "metadata": {},
   "outputs": [],
   "source": [
    "df = pd.read_csv('data/ebay_iphone_14_pro_max.csv')"
   ]
  },
  {
   "cell_type": "markdown",
   "id": "87c663dd",
   "metadata": {},
   "source": [
    "## 2. Data Preprocessing"
   ]
  },
  {
   "cell_type": "code",
   "execution_count": 4,
   "id": "5028bf14",
   "metadata": {},
   "outputs": [
    {
     "data": {
      "text/html": [
       "<div>\n",
       "<style scoped>\n",
       "    .dataframe tbody tr th:only-of-type {\n",
       "        vertical-align: middle;\n",
       "    }\n",
       "\n",
       "    .dataframe tbody tr th {\n",
       "        vertical-align: top;\n",
       "    }\n",
       "\n",
       "    .dataframe thead th {\n",
       "        text-align: right;\n",
       "    }\n",
       "</style>\n",
       "<table border=\"1\" class=\"dataframe\">\n",
       "  <thead>\n",
       "    <tr style=\"text-align: right;\">\n",
       "      <th></th>\n",
       "      <th>Title</th>\n",
       "      <th>Price</th>\n",
       "    </tr>\n",
       "  </thead>\n",
       "  <tbody>\n",
       "    <tr>\n",
       "      <th>0</th>\n",
       "      <td>Apple iPhone 14 Pro Max 512GB Unlocked AT&amp;T T-Mobile Verizon Very Good Condition</td>\n",
       "      <td>$884.95</td>\n",
       "    </tr>\n",
       "    <tr>\n",
       "      <th>1</th>\n",
       "      <td>Case For iPhone 15 Pro Max 14 Plus 13 12 11 XS Shockproof Full Protective Cover</td>\n",
       "      <td>$2.48 to $6.22</td>\n",
       "    </tr>\n",
       "    <tr>\n",
       "      <th>2</th>\n",
       "      <td>Apple iPhone 14 Pro Max A16 128GB 256GB 512GB 1TB Unlocked New Sealed</td>\n",
       "      <td>$1,429.49 to $2,089.49</td>\n",
       "    </tr>\n",
       "    <tr>\n",
       "      <th>3</th>\n",
       "      <td>Apple iPhone 14 Pro Max 256GB ( Unlocked) US E Sim - Excellent</td>\n",
       "      <td>$909.99</td>\n",
       "    </tr>\n",
       "    <tr>\n",
       "      <th>4</th>\n",
       "      <td>Apple iPhone 14 Pro Max - 128GB - Deep Purple (Unlocked) Smartphone</td>\n",
       "      <td>$810.00</td>\n",
       "    </tr>\n",
       "    <tr>\n",
       "      <th>...</th>\n",
       "      <td>...</td>\n",
       "      <td>...</td>\n",
       "    </tr>\n",
       "    <tr>\n",
       "      <th>1018</th>\n",
       "      <td>Apple iPhone 14 Pro Max - 256GB - Space Black (Unlocked) A2651 (GSM)</td>\n",
       "      <td>$940.00</td>\n",
       "    </tr>\n",
       "    <tr>\n",
       "      <th>1019</th>\n",
       "      <td>Apple iPhone 14 Pro Max - 128GB - Gold (Verizon)</td>\n",
       "      <td>$950.00</td>\n",
       "    </tr>\n",
       "    <tr>\n",
       "      <th>1020</th>\n",
       "      <td>iphone 14 pro max 128gb silver unlocked</td>\n",
       "      <td>$1,008.98</td>\n",
       "    </tr>\n",
       "    <tr>\n",
       "      <th>1021</th>\n",
       "      <td>Apple iPhone 14 Pro Max - 1TB - Deep Purple (T-Mobile)</td>\n",
       "      <td>$1,300.00</td>\n",
       "    </tr>\n",
       "    <tr>\n",
       "      <th>1022</th>\n",
       "      <td>Apple iPhone 14 Pro Max - 128GB - Deep Purple (Unlocked)</td>\n",
       "      <td>$980.00</td>\n",
       "    </tr>\n",
       "  </tbody>\n",
       "</table>\n",
       "<p>1023 rows × 2 columns</p>\n",
       "</div>"
      ],
      "text/plain": [
       "                                                                                 Title  \\\n",
       "0     Apple iPhone 14 Pro Max 512GB Unlocked AT&T T-Mobile Verizon Very Good Condition   \n",
       "1      Case For iPhone 15 Pro Max 14 Plus 13 12 11 XS Shockproof Full Protective Cover   \n",
       "2                Apple iPhone 14 Pro Max A16 128GB 256GB 512GB 1TB Unlocked New Sealed   \n",
       "3                       Apple iPhone 14 Pro Max 256GB ( Unlocked) US E Sim - Excellent   \n",
       "4                  Apple iPhone 14 Pro Max - 128GB - Deep Purple (Unlocked) Smartphone   \n",
       "...                                                                                ...   \n",
       "1018              Apple iPhone 14 Pro Max - 256GB - Space Black (Unlocked) A2651 (GSM)   \n",
       "1019                                  Apple iPhone 14 Pro Max - 128GB - Gold (Verizon)   \n",
       "1020                                           iphone 14 pro max 128gb silver unlocked   \n",
       "1021                            Apple iPhone 14 Pro Max - 1TB - Deep Purple (T-Mobile)   \n",
       "1022                          Apple iPhone 14 Pro Max - 128GB - Deep Purple (Unlocked)   \n",
       "\n",
       "                       Price  \n",
       "0                    $884.95  \n",
       "1             $2.48 to $6.22  \n",
       "2     $1,429.49 to $2,089.49  \n",
       "3                    $909.99  \n",
       "4                    $810.00  \n",
       "...                      ...  \n",
       "1018                 $940.00  \n",
       "1019                 $950.00  \n",
       "1020               $1,008.98  \n",
       "1021               $1,300.00  \n",
       "1022                 $980.00  \n",
       "\n",
       "[1023 rows x 2 columns]"
      ]
     },
     "execution_count": 4,
     "metadata": {},
     "output_type": "execute_result"
    }
   ],
   "source": [
    "df"
   ]
  },
  {
   "cell_type": "code",
   "execution_count": 5,
   "id": "a2a97f7b",
   "metadata": {},
   "outputs": [
    {
     "data": {
      "text/plain": [
       "Title    object\n",
       "Price    object\n",
       "dtype: object"
      ]
     },
     "execution_count": 5,
     "metadata": {},
     "output_type": "execute_result"
    }
   ],
   "source": [
    "df.dtypes"
   ]
  },
  {
   "cell_type": "code",
   "execution_count": 6,
   "id": "48a0c681",
   "metadata": {},
   "outputs": [
    {
     "name": "stdout",
     "output_type": "stream",
     "text": [
      "<class 'pandas.core.frame.DataFrame'>\n",
      "RangeIndex: 1023 entries, 0 to 1022\n",
      "Data columns (total 2 columns):\n",
      " #   Column  Non-Null Count  Dtype \n",
      "---  ------  --------------  ----- \n",
      " 0   Title   1023 non-null   object\n",
      " 1   Price   1023 non-null   object\n",
      "dtypes: object(2)\n",
      "memory usage: 16.1+ KB\n"
     ]
    }
   ],
   "source": [
    "df.info()"
   ]
  },
  {
   "cell_type": "markdown",
   "id": "11a6142a",
   "metadata": {},
   "source": [
    "### 2.1. Data Cleaning"
   ]
  },
  {
   "cell_type": "code",
   "execution_count": 7,
   "id": "3cd08449",
   "metadata": {},
   "outputs": [],
   "source": [
    "# drop all rows that contains price range (not only 1 iphone)\n",
    "df = df.drop(df.loc[df['Price'].str.contains('to')].index)"
   ]
  },
  {
   "cell_type": "code",
   "execution_count": 8,
   "id": "cc24fe2a",
   "metadata": {},
   "outputs": [],
   "source": [
    "# delete $ and replace , with .\n",
    "df['Price'] = df['Price'].apply(lambda x: x.replace('$', '').replace(',',''))\n",
    "\n",
    "# convert to numeric\n",
    "df['Price'] = pd.to_numeric(df['Price'])"
   ]
  },
  {
   "cell_type": "code",
   "execution_count": 9,
   "id": "1956852c",
   "metadata": {},
   "outputs": [
    {
     "data": {
      "text/plain": [
       "Title     object\n",
       "Price    float64\n",
       "dtype: object"
      ]
     },
     "execution_count": 9,
     "metadata": {},
     "output_type": "execute_result"
    }
   ],
   "source": [
    "df.dtypes"
   ]
  },
  {
   "cell_type": "code",
   "execution_count": 10,
   "id": "8423db39",
   "metadata": {},
   "outputs": [
    {
     "data": {
      "text/html": [
       "<div>\n",
       "<style scoped>\n",
       "    .dataframe tbody tr th:only-of-type {\n",
       "        vertical-align: middle;\n",
       "    }\n",
       "\n",
       "    .dataframe tbody tr th {\n",
       "        vertical-align: top;\n",
       "    }\n",
       "\n",
       "    .dataframe thead th {\n",
       "        text-align: right;\n",
       "    }\n",
       "</style>\n",
       "<table border=\"1\" class=\"dataframe\">\n",
       "  <thead>\n",
       "    <tr style=\"text-align: right;\">\n",
       "      <th></th>\n",
       "      <th>Price</th>\n",
       "    </tr>\n",
       "  </thead>\n",
       "  <tbody>\n",
       "    <tr>\n",
       "      <th>count</th>\n",
       "      <td>994.000000</td>\n",
       "    </tr>\n",
       "    <tr>\n",
       "      <th>mean</th>\n",
       "      <td>1029.030885</td>\n",
       "    </tr>\n",
       "    <tr>\n",
       "      <th>std</th>\n",
       "      <td>1235.541807</td>\n",
       "    </tr>\n",
       "    <tr>\n",
       "      <th>min</th>\n",
       "      <td>3.720000</td>\n",
       "    </tr>\n",
       "    <tr>\n",
       "      <th>25%</th>\n",
       "      <td>750.000000</td>\n",
       "    </tr>\n",
       "    <tr>\n",
       "      <th>50%</th>\n",
       "      <td>906.990000</td>\n",
       "    </tr>\n",
       "    <tr>\n",
       "      <th>75%</th>\n",
       "      <td>1121.090000</td>\n",
       "    </tr>\n",
       "    <tr>\n",
       "      <th>max</th>\n",
       "      <td>35000.000000</td>\n",
       "    </tr>\n",
       "  </tbody>\n",
       "</table>\n",
       "</div>"
      ],
      "text/plain": [
       "              Price\n",
       "count    994.000000\n",
       "mean    1029.030885\n",
       "std     1235.541807\n",
       "min        3.720000\n",
       "25%      750.000000\n",
       "50%      906.990000\n",
       "75%     1121.090000\n",
       "max    35000.000000"
      ]
     },
     "execution_count": 10,
     "metadata": {},
     "output_type": "execute_result"
    }
   ],
   "source": [
    "df.describe()"
   ]
  },
  {
   "cell_type": "markdown",
   "id": "c31e62bf",
   "metadata": {},
   "source": [
    "## Removing outliers"
   ]
  },
  {
   "cell_type": "code",
   "execution_count": 11,
   "id": "9b82c15f",
   "metadata": {},
   "outputs": [
    {
     "name": "stderr",
     "output_type": "stream",
     "text": [
      "C:\\Users\\azhar\\anaconda3\\lib\\site-packages\\seaborn\\_oldcore.py:1498: FutureWarning: is_categorical_dtype is deprecated and will be removed in a future version. Use isinstance(dtype, CategoricalDtype) instead\n",
      "  if pd.api.types.is_categorical_dtype(vector):\n",
      "C:\\Users\\azhar\\anaconda3\\lib\\site-packages\\seaborn\\_oldcore.py:1119: FutureWarning: use_inf_as_na option is deprecated and will be removed in a future version. Convert inf values to NaN before operating instead.\n",
      "  with pd.option_context('mode.use_inf_as_na', True):\n",
      "C:\\Users\\azhar\\anaconda3\\lib\\site-packages\\seaborn\\_oldcore.py:1498: FutureWarning: is_categorical_dtype is deprecated and will be removed in a future version. Use isinstance(dtype, CategoricalDtype) instead\n",
      "  if pd.api.types.is_categorical_dtype(vector):\n",
      "No artists with labels found to put in legend.  Note that artists whose label start with an underscore are ignored when legend() is called with no argument.\n"
     ]
    },
    {
     "data": {
      "image/png": "[encoded data removed]",
      "text/plain": [
       "<Figure size 1300x500 with 2 Axes>"
      ]
     },
     "metadata": {},
     "output_type": "display_data"
    }
   ],
   "source": [
    "fig, axes = plt.subplots(1, 2, sharex=True, figsize=(13,5))\n",
    "sns.set_theme()\n",
    "fig.suptitle('Price Plots')\n",
    "sns.histplot(ax=axes[0], data=df, x=df['Price'], kde=True)\n",
    "axes[0].set_title('Histplot with line')\n",
    "sns.boxplot(ax=axes[1], data=df, x=df['Price'])\n",
    "axes[1].set_title('Box plot of Price')\n",
    "plt.legend()\n",
    "plt.show()"
   ]
  },
  {
   "cell_type": "code",
   "execution_count": 12,
   "id": "7d99c42f",
   "metadata": {},
   "outputs": [
    {
     "data": {
      "text/html": [
       "<div>\n",
       "<style scoped>\n",
       "    .dataframe tbody tr th:only-of-type {\n",
       "        vertical-align: middle;\n",
       "    }\n",
       "\n",
       "    .dataframe tbody tr th {\n",
       "        vertical-align: top;\n",
       "    }\n",
       "\n",
       "    .dataframe thead th {\n",
       "        text-align: right;\n",
       "    }\n",
       "</style>\n",
       "<table border=\"1\" class=\"dataframe\">\n",
       "  <thead>\n",
       "    <tr style=\"text-align: right;\">\n",
       "      <th></th>\n",
       "      <th>Price</th>\n",
       "    </tr>\n",
       "  </thead>\n",
       "  <tbody>\n",
       "    <tr>\n",
       "      <th>count</th>\n",
       "      <td>994.000000</td>\n",
       "    </tr>\n",
       "    <tr>\n",
       "      <th>mean</th>\n",
       "      <td>1029.030885</td>\n",
       "    </tr>\n",
       "    <tr>\n",
       "      <th>std</th>\n",
       "      <td>1235.541807</td>\n",
       "    </tr>\n",
       "    <tr>\n",
       "      <th>min</th>\n",
       "      <td>3.720000</td>\n",
       "    </tr>\n",
       "    <tr>\n",
       "      <th>25%</th>\n",
       "      <td>750.000000</td>\n",
       "    </tr>\n",
       "    <tr>\n",
       "      <th>50%</th>\n",
       "      <td>906.990000</td>\n",
       "    </tr>\n",
       "    <tr>\n",
       "      <th>75%</th>\n",
       "      <td>1121.090000</td>\n",
       "    </tr>\n",
       "    <tr>\n",
       "      <th>max</th>\n",
       "      <td>35000.000000</td>\n",
       "    </tr>\n",
       "  </tbody>\n",
       "</table>\n",
       "</div>"
      ],
      "text/plain": [
       "              Price\n",
       "count    994.000000\n",
       "mean    1029.030885\n",
       "std     1235.541807\n",
       "min        3.720000\n",
       "25%      750.000000\n",
       "50%      906.990000\n",
       "75%     1121.090000\n",
       "max    35000.000000"
      ]
     },
     "execution_count": 12,
     "metadata": {},
     "output_type": "execute_result"
    }
   ],
   "source": [
    "df.describe()"
   ]
  },
  {
   "cell_type": "code",
   "execution_count": 13,
   "id": "b0128363",
   "metadata": {},
   "outputs": [],
   "source": [
    "# remove crazy prices\n",
    "df = df.drop(df.loc[(df.Price > 1700) | (df.Price < 400)].index)"
   ]
  },
  {
   "cell_type": "code",
   "execution_count": 14,
   "id": "42a3e0bd",
   "metadata": {},
   "outputs": [
    {
     "data": {
      "text/plain": [
       "(883, 2)"
      ]
     },
     "execution_count": 14,
     "metadata": {},
     "output_type": "execute_result"
    }
   ],
   "source": [
    "df.shape"
   ]
  },
  {
   "cell_type": "code",
   "execution_count": 15,
   "id": "0b24b54e",
   "metadata": {},
   "outputs": [
    {
     "name": "stderr",
     "output_type": "stream",
     "text": [
      "C:\\Users\\azhar\\anaconda3\\lib\\site-packages\\seaborn\\_oldcore.py:1498: FutureWarning: is_categorical_dtype is deprecated and will be removed in a future version. Use isinstance(dtype, CategoricalDtype) instead\n",
      "  if pd.api.types.is_categorical_dtype(vector):\n",
      "C:\\Users\\azhar\\anaconda3\\lib\\site-packages\\seaborn\\_oldcore.py:1119: FutureWarning: use_inf_as_na option is deprecated and will be removed in a future version. Convert inf values to NaN before operating instead.\n",
      "  with pd.option_context('mode.use_inf_as_na', True):\n",
      "C:\\Users\\azhar\\anaconda3\\lib\\site-packages\\seaborn\\_oldcore.py:1498: FutureWarning: is_categorical_dtype is deprecated and will be removed in a future version. Use isinstance(dtype, CategoricalDtype) instead\n",
      "  if pd.api.types.is_categorical_dtype(vector):\n",
      "No artists with labels found to put in legend.  Note that artists whose label start with an underscore are ignored when legend() is called with no argument.\n"
     ]
    },
    {
     "data": {
      "image/png": "[encoded data removed]",
      "text/plain": [
       "<Figure size 1300x500 with 2 Axes>"
      ]
     },
     "metadata": {},
     "output_type": "display_data"
    }
   ],
   "source": [
    "fig, axes = plt.subplots(1, 2, sharex=True, figsize=(13,5))\n",
    "sns.set_theme()\n",
    "fig.suptitle('Price Plots')\n",
    "sns.histplot(ax=axes[0], data=df, x=df['Price'], kde=True)\n",
    "axes[0].set_title('Histplot with line')\n",
    "sns.boxplot(ax=axes[1], data=df, x=df['Price'])\n",
    "axes[1].set_title('Box plot of Price')\n",
    "plt.legend()\n",
    "plt.show()"
   ]
  },
  {
   "cell_type": "code",
   "execution_count": 16,
   "id": "351fa37b",
   "metadata": {},
   "outputs": [
    {
     "data": {
      "text/html": [
       "<div>\n",
       "<style scoped>\n",
       "    .dataframe tbody tr th:only-of-type {\n",
       "        vertical-align: middle;\n",
       "    }\n",
       "\n",
       "    .dataframe tbody tr th {\n",
       "        vertical-align: top;\n",
       "    }\n",
       "\n",
       "    .dataframe thead th {\n",
       "        text-align: right;\n",
       "    }\n",
       "</style>\n",
       "<table border=\"1\" class=\"dataframe\">\n",
       "  <thead>\n",
       "    <tr style=\"text-align: right;\">\n",
       "      <th></th>\n",
       "      <th>Price</th>\n",
       "    </tr>\n",
       "  </thead>\n",
       "  <tbody>\n",
       "    <tr>\n",
       "      <th>count</th>\n",
       "      <td>883.000000</td>\n",
       "    </tr>\n",
       "    <tr>\n",
       "      <th>mean</th>\n",
       "      <td>948.038992</td>\n",
       "    </tr>\n",
       "    <tr>\n",
       "      <th>std</th>\n",
       "      <td>247.308520</td>\n",
       "    </tr>\n",
       "    <tr>\n",
       "      <th>min</th>\n",
       "      <td>425.000000</td>\n",
       "    </tr>\n",
       "    <tr>\n",
       "      <th>25%</th>\n",
       "      <td>799.470000</td>\n",
       "    </tr>\n",
       "    <tr>\n",
       "      <th>50%</th>\n",
       "      <td>909.000000</td>\n",
       "    </tr>\n",
       "    <tr>\n",
       "      <th>75%</th>\n",
       "      <td>1098.230000</td>\n",
       "    </tr>\n",
       "    <tr>\n",
       "      <th>max</th>\n",
       "      <td>1700.000000</td>\n",
       "    </tr>\n",
       "  </tbody>\n",
       "</table>\n",
       "</div>"
      ],
      "text/plain": [
       "             Price\n",
       "count   883.000000\n",
       "mean    948.038992\n",
       "std     247.308520\n",
       "min     425.000000\n",
       "25%     799.470000\n",
       "50%     909.000000\n",
       "75%    1098.230000\n",
       "max    1700.000000"
      ]
     },
     "execution_count": 16,
     "metadata": {},
     "output_type": "execute_result"
    }
   ],
   "source": [
    "df.describe()"
   ]
  },
  {
   "cell_type": "code",
   "execution_count": 17,
   "id": "1944a920",
   "metadata": {},
   "outputs": [],
   "source": [
    "## Remove price outliers\n",
    "## TODO: Improve outlier algorithm\n",
    "\n",
    "\n",
    "# remove if Z-Score more than 3 for upper-bound, and -1.5 for lower bound\n",
    "\n",
    "# add zscore column\n",
    "df['zscore'] = (df.Price - df.Price.mean())/df.Price.std()\n",
    "\n"
   ]
  },
  {
   "cell_type": "code",
   "execution_count": 18,
   "id": "54184757",
   "metadata": {},
   "outputs": [
    {
     "data": {
      "text/html": [
       "<div>\n",
       "<style scoped>\n",
       "    .dataframe tbody tr th:only-of-type {\n",
       "        vertical-align: middle;\n",
       "    }\n",
       "\n",
       "    .dataframe tbody tr th {\n",
       "        vertical-align: top;\n",
       "    }\n",
       "\n",
       "    .dataframe thead th {\n",
       "        text-align: right;\n",
       "    }\n",
       "</style>\n",
       "<table border=\"1\" class=\"dataframe\">\n",
       "  <thead>\n",
       "    <tr style=\"text-align: right;\">\n",
       "      <th></th>\n",
       "      <th>Title</th>\n",
       "      <th>Price</th>\n",
       "      <th>zscore</th>\n",
       "    </tr>\n",
       "  </thead>\n",
       "  <tbody>\n",
       "    <tr>\n",
       "      <th>229</th>\n",
       "      <td>Apple iPhone 14 Pro Max 256GB Gold UNLOCKED SIM CARD TRAY MQ9W3ZP/A Model A2894</td>\n",
       "      <td>1597.97</td>\n",
       "      <td>2.628017</td>\n",
       "    </tr>\n",
       "    <tr>\n",
       "      <th>230</th>\n",
       "      <td>Apple iPhone 14 Pro Max 512GB (Deep Purple) NEW **Sealed** UNLOCKED BARGAIN!!</td>\n",
       "      <td>1662.94</td>\n",
       "      <td>2.890725</td>\n",
       "    </tr>\n",
       "    <tr>\n",
       "      <th>269</th>\n",
       "      <td>Apple iPhone 14 Pro Max - 256GB - Deep Purple (Unlocked)</td>\n",
       "      <td>1599.00</td>\n",
       "      <td>2.632182</td>\n",
       "    </tr>\n",
       "    <tr>\n",
       "      <th>298</th>\n",
       "      <td>Apple iPhone 14 Pro Max 512GB (Deep Purple) NEW **Sealed** UNLOCKED BARGAIN!!</td>\n",
       "      <td>1662.94</td>\n",
       "      <td>2.890725</td>\n",
       "    </tr>\n",
       "    <tr>\n",
       "      <th>368</th>\n",
       "      <td>Apple iPhone 14 Pro Max - 256GB - Gold (Unlocked) Apple iPhone 14 Pro Max New US</td>\n",
       "      <td>1599.00</td>\n",
       "      <td>2.632182</td>\n",
       "    </tr>\n",
       "    <tr>\n",
       "      <th>468</th>\n",
       "      <td>Apple iPhone 14 Pro Max - 256GB - Space Black (Unlocked) (CA)</td>\n",
       "      <td>1643.02</td>\n",
       "      <td>2.810178</td>\n",
       "    </tr>\n",
       "    <tr>\n",
       "      <th>727</th>\n",
       "      <td>Apple - iPhone 14 Pro Max -128GB - Factory Sealed - Factory Warranty - UNLOCKED!</td>\n",
       "      <td>1696.00</td>\n",
       "      <td>3.024405</td>\n",
       "    </tr>\n",
       "    <tr>\n",
       "      <th>750</th>\n",
       "      <td>Apple iPhone 14 Pro Max - 1TB - Gold (Unlocked) Barely Used, 3 cases, Apple Care</td>\n",
       "      <td>1619.35</td>\n",
       "      <td>2.714468</td>\n",
       "    </tr>\n",
       "    <tr>\n",
       "      <th>764</th>\n",
       "      <td>Apple - iPhone 14 Pro Max -1TB - Factory Sealed - Factory Warranty - UNLOCKED!</td>\n",
       "      <td>1700.00</td>\n",
       "      <td>3.040579</td>\n",
       "    </tr>\n",
       "    <tr>\n",
       "      <th>825</th>\n",
       "      <td>Apple iPhone 14 Pro Max - 1TB - Gold (Unlocked) Barely Used, 3 cases, Apple Care</td>\n",
       "      <td>1619.35</td>\n",
       "      <td>2.714468</td>\n",
       "    </tr>\n",
       "    <tr>\n",
       "      <th>860</th>\n",
       "      <td>Apple iPhone 14 Pro Max 256GB (Deep Purple)</td>\n",
       "      <td>1638.99</td>\n",
       "      <td>2.793883</td>\n",
       "    </tr>\n",
       "    <tr>\n",
       "      <th>882</th>\n",
       "      <td>Apple iPhone 14 Pro Max 256GB (Space Black)</td>\n",
       "      <td>1638.99</td>\n",
       "      <td>2.793883</td>\n",
       "    </tr>\n",
       "    <tr>\n",
       "      <th>925</th>\n",
       "      <td>Apple iPhone 14 Pro Max 256GB (Space Black)</td>\n",
       "      <td>1638.99</td>\n",
       "      <td>2.793883</td>\n",
       "    </tr>\n",
       "    <tr>\n",
       "      <th>964</th>\n",
       "      <td>Apple iPhone 14 Pro Max 256GB (Space Black)</td>\n",
       "      <td>1638.99</td>\n",
       "      <td>2.793883</td>\n",
       "    </tr>\n",
       "  </tbody>\n",
       "</table>\n",
       "</div>"
      ],
      "text/plain": [
       "                                                                                Title  \\\n",
       "229   Apple iPhone 14 Pro Max 256GB Gold UNLOCKED SIM CARD TRAY MQ9W3ZP/A Model A2894   \n",
       "230     Apple iPhone 14 Pro Max 512GB (Deep Purple) NEW **Sealed** UNLOCKED BARGAIN!!   \n",
       "269                          Apple iPhone 14 Pro Max - 256GB - Deep Purple (Unlocked)   \n",
       "298     Apple iPhone 14 Pro Max 512GB (Deep Purple) NEW **Sealed** UNLOCKED BARGAIN!!   \n",
       "368  Apple iPhone 14 Pro Max - 256GB - Gold (Unlocked) Apple iPhone 14 Pro Max New US   \n",
       "468                     Apple iPhone 14 Pro Max - 256GB - Space Black (Unlocked) (CA)   \n",
       "727  Apple - iPhone 14 Pro Max -128GB - Factory Sealed - Factory Warranty - UNLOCKED!   \n",
       "750  Apple iPhone 14 Pro Max - 1TB - Gold (Unlocked) Barely Used, 3 cases, Apple Care   \n",
       "764    Apple - iPhone 14 Pro Max -1TB - Factory Sealed - Factory Warranty - UNLOCKED!   \n",
       "825  Apple iPhone 14 Pro Max - 1TB - Gold (Unlocked) Barely Used, 3 cases, Apple Care   \n",
       "860                                       Apple iPhone 14 Pro Max 256GB (Deep Purple)   \n",
       "882                                       Apple iPhone 14 Pro Max 256GB (Space Black)   \n",
       "925                                       Apple iPhone 14 Pro Max 256GB (Space Black)   \n",
       "964                                       Apple iPhone 14 Pro Max 256GB (Space Black)   \n",
       "\n",
       "       Price    zscore  \n",
       "229  1597.97  2.628017  \n",
       "230  1662.94  2.890725  \n",
       "269  1599.00  2.632182  \n",
       "298  1662.94  2.890725  \n",
       "368  1599.00  2.632182  \n",
       "468  1643.02  2.810178  \n",
       "727  1696.00  3.024405  \n",
       "750  1619.35  2.714468  \n",
       "764  1700.00  3.040579  \n",
       "825  1619.35  2.714468  \n",
       "860  1638.99  2.793883  \n",
       "882  1638.99  2.793883  \n",
       "925  1638.99  2.793883  \n",
       "964  1638.99  2.793883  "
      ]
     },
     "execution_count": 18,
     "metadata": {},
     "output_type": "execute_result"
    }
   ],
   "source": [
    "df.loc[df.zscore > 2.5]"
   ]
  },
  {
   "cell_type": "code",
   "execution_count": 19,
   "id": "d37b69ab",
   "metadata": {},
   "outputs": [
    {
     "data": {
      "text/html": [
       "<div>\n",
       "<style scoped>\n",
       "    .dataframe tbody tr th:only-of-type {\n",
       "        vertical-align: middle;\n",
       "    }\n",
       "\n",
       "    .dataframe tbody tr th {\n",
       "        vertical-align: top;\n",
       "    }\n",
       "\n",
       "    .dataframe thead th {\n",
       "        text-align: right;\n",
       "    }\n",
       "</style>\n",
       "<table border=\"1\" class=\"dataframe\">\n",
       "  <thead>\n",
       "    <tr style=\"text-align: right;\">\n",
       "      <th></th>\n",
       "      <th>Title</th>\n",
       "      <th>Price</th>\n",
       "      <th>zscore</th>\n",
       "    </tr>\n",
       "  </thead>\n",
       "  <tbody>\n",
       "    <tr>\n",
       "      <th>32</th>\n",
       "      <td>NEW LISTINGApple iPhone 14 Pro Max A2651 256GB Purple</td>\n",
       "      <td>425.00</td>\n",
       "      <td>-2.114925</td>\n",
       "    </tr>\n",
       "    <tr>\n",
       "      <th>34</th>\n",
       "      <td>Verizon Apple iPhone 14 Pro Max A2651 Silver Broken Parts Only READ DESCRIPTION</td>\n",
       "      <td>435.00</td>\n",
       "      <td>-2.074490</td>\n",
       "    </tr>\n",
       "    <tr>\n",
       "      <th>76</th>\n",
       "      <td>Apple iPhone 13 Pro Gold ic locked Very Good Condition And Iphone 11 128gb Read</td>\n",
       "      <td>450.00</td>\n",
       "      <td>-2.013837</td>\n",
       "    </tr>\n",
       "    <tr>\n",
       "      <th>100</th>\n",
       "      <td>Apple iPhone 14 Pro Max - Silver (Unlocked) cracked screen</td>\n",
       "      <td>435.98</td>\n",
       "      <td>-2.070527</td>\n",
       "    </tr>\n",
       "    <tr>\n",
       "      <th>172</th>\n",
       "      <td>Apple iPhone 14 Pro Max 128GB Space Black Spectrum Locked - Cracked Front/Back</td>\n",
       "      <td>449.99</td>\n",
       "      <td>-2.013877</td>\n",
       "    </tr>\n",
       "    <tr>\n",
       "      <th>197</th>\n",
       "      <td>Apple iPhone 14 Pro Max 256GB Silver AT&amp;T Locked - LCD Lines</td>\n",
       "      <td>449.99</td>\n",
       "      <td>-2.013877</td>\n",
       "    </tr>\n",
       "    <tr>\n",
       "      <th>378</th>\n",
       "      <td>Apple iPhone 14 Pro Max 128gb Black</td>\n",
       "      <td>429.00</td>\n",
       "      <td>-2.098751</td>\n",
       "    </tr>\n",
       "    <tr>\n",
       "      <th>477</th>\n",
       "      <td>Apple iPhone 14 Pro Max 128gb Black</td>\n",
       "      <td>429.00</td>\n",
       "      <td>-2.098751</td>\n",
       "    </tr>\n",
       "    <tr>\n",
       "      <th>486</th>\n",
       "      <td>Apple iPhone 14 Pro Max - 256GB (AT&amp;T ONLY) BAD LCD - READ (#K22)</td>\n",
       "      <td>431.99</td>\n",
       "      <td>-2.086661</td>\n",
       "    </tr>\n",
       "    <tr>\n",
       "      <th>551</th>\n",
       "      <td>Apple iPhone 14 Pro Max - 128GB - Space Black (AT&amp;T) ESN BD</td>\n",
       "      <td>450.00</td>\n",
       "      <td>-2.013837</td>\n",
       "    </tr>\n",
       "    <tr>\n",
       "      <th>554</th>\n",
       "      <td>iphone 14 pro max</td>\n",
       "      <td>450.00</td>\n",
       "      <td>-2.013837</td>\n",
       "    </tr>\n",
       "  </tbody>\n",
       "</table>\n",
       "</div>"
      ],
      "text/plain": [
       "                                                                               Title  \\\n",
       "32                             NEW LISTINGApple iPhone 14 Pro Max A2651 256GB Purple   \n",
       "34   Verizon Apple iPhone 14 Pro Max A2651 Silver Broken Parts Only READ DESCRIPTION   \n",
       "76   Apple iPhone 13 Pro Gold ic locked Very Good Condition And Iphone 11 128gb Read   \n",
       "100                       Apple iPhone 14 Pro Max - Silver (Unlocked) cracked screen   \n",
       "172   Apple iPhone 14 Pro Max 128GB Space Black Spectrum Locked - Cracked Front/Back   \n",
       "197                     Apple iPhone 14 Pro Max 256GB Silver AT&T Locked - LCD Lines   \n",
       "378                                              Apple iPhone 14 Pro Max 128gb Black   \n",
       "477                                              Apple iPhone 14 Pro Max 128gb Black   \n",
       "486                Apple iPhone 14 Pro Max - 256GB (AT&T ONLY) BAD LCD - READ (#K22)   \n",
       "551                      Apple iPhone 14 Pro Max - 128GB - Space Black (AT&T) ESN BD   \n",
       "554                                                                iphone 14 pro max   \n",
       "\n",
       "      Price    zscore  \n",
       "32   425.00 -2.114925  \n",
       "34   435.00 -2.074490  \n",
       "76   450.00 -2.013837  \n",
       "100  435.98 -2.070527  \n",
       "172  449.99 -2.013877  \n",
       "197  449.99 -2.013877  \n",
       "378  429.00 -2.098751  \n",
       "477  429.00 -2.098751  \n",
       "486  431.99 -2.086661  \n",
       "551  450.00 -2.013837  \n",
       "554  450.00 -2.013837  "
      ]
     },
     "execution_count": 19,
     "metadata": {},
     "output_type": "execute_result"
    }
   ],
   "source": [
    "df.loc[df.zscore < -2]"
   ]
  },
  {
   "cell_type": "code",
   "execution_count": 20,
   "id": "a13ad072",
   "metadata": {},
   "outputs": [],
   "source": [
    "# drop columns with zscore > 3 and < -2.5\n",
    "df = df.drop(df.loc[(df.zscore > 3) | (df.zscore < -2.5)].index)\n"
   ]
  },
  {
   "cell_type": "code",
   "execution_count": 21,
   "id": "140e4150",
   "metadata": {},
   "outputs": [
    {
     "name": "stderr",
     "output_type": "stream",
     "text": [
      "C:\\Users\\azhar\\anaconda3\\lib\\site-packages\\seaborn\\_oldcore.py:1498: FutureWarning: is_categorical_dtype is deprecated and will be removed in a future version. Use isinstance(dtype, CategoricalDtype) instead\n",
      "  if pd.api.types.is_categorical_dtype(vector):\n",
      "C:\\Users\\azhar\\anaconda3\\lib\\site-packages\\seaborn\\_oldcore.py:1119: FutureWarning: use_inf_as_na option is deprecated and will be removed in a future version. Convert inf values to NaN before operating instead.\n",
      "  with pd.option_context('mode.use_inf_as_na', True):\n",
      "C:\\Users\\azhar\\anaconda3\\lib\\site-packages\\seaborn\\_oldcore.py:1498: FutureWarning: is_categorical_dtype is deprecated and will be removed in a future version. Use isinstance(dtype, CategoricalDtype) instead\n",
      "  if pd.api.types.is_categorical_dtype(vector):\n"
     ]
    },
    {
     "data": {
      "image/png": "[encoded data removed]",
      "text/plain": [
       "<Figure size 1300x500 with 2 Axes>"
      ]
     },
     "metadata": {},
     "output_type": "display_data"
    }
   ],
   "source": [
    "fig, axes = plt.subplots(1, 2, sharex=True, figsize=(13,5))\n",
    "sns.set_theme()\n",
    "fig.suptitle('Price Plots')\n",
    "sns.histplot(ax=axes[0], data=df, x=df['Price'], kde=True)\n",
    "axes[0].set_title('Histplot')\n",
    "sns.boxplot(ax=axes[1], data=df, x=df['Price'])\n",
    "axes[1].set_title('Box plot')\n",
    "\n",
    "\n",
    "plt.show()"
   ]
  },
  {
   "cell_type": "code",
   "execution_count": 22,
   "id": "76b5d75a",
   "metadata": {},
   "outputs": [],
   "source": [
    "df = df.reset_index().drop(columns=['index', 'zscore'])"
   ]
  },
  {
   "cell_type": "code",
   "execution_count": 23,
   "id": "3f841c7b",
   "metadata": {},
   "outputs": [
    {
     "data": {
      "text/html": [
       "<div>\n",
       "<style scoped>\n",
       "    .dataframe tbody tr th:only-of-type {\n",
       "        vertical-align: middle;\n",
       "    }\n",
       "\n",
       "    .dataframe tbody tr th {\n",
       "        vertical-align: top;\n",
       "    }\n",
       "\n",
       "    .dataframe thead th {\n",
       "        text-align: right;\n",
       "    }\n",
       "</style>\n",
       "<table border=\"1\" class=\"dataframe\">\n",
       "  <thead>\n",
       "    <tr style=\"text-align: right;\">\n",
       "      <th></th>\n",
       "      <th>Price</th>\n",
       "    </tr>\n",
       "  </thead>\n",
       "  <tbody>\n",
       "    <tr>\n",
       "      <th>count</th>\n",
       "      <td>881.000000</td>\n",
       "    </tr>\n",
       "    <tr>\n",
       "      <th>mean</th>\n",
       "      <td>946.336470</td>\n",
       "    </tr>\n",
       "    <tr>\n",
       "      <th>std</th>\n",
       "      <td>244.988409</td>\n",
       "    </tr>\n",
       "    <tr>\n",
       "      <th>min</th>\n",
       "      <td>425.000000</td>\n",
       "    </tr>\n",
       "    <tr>\n",
       "      <th>25%</th>\n",
       "      <td>799.000000</td>\n",
       "    </tr>\n",
       "    <tr>\n",
       "      <th>50%</th>\n",
       "      <td>906.990000</td>\n",
       "    </tr>\n",
       "    <tr>\n",
       "      <th>75%</th>\n",
       "      <td>1096.160000</td>\n",
       "    </tr>\n",
       "    <tr>\n",
       "      <th>max</th>\n",
       "      <td>1662.940000</td>\n",
       "    </tr>\n",
       "  </tbody>\n",
       "</table>\n",
       "</div>"
      ],
      "text/plain": [
       "             Price\n",
       "count   881.000000\n",
       "mean    946.336470\n",
       "std     244.988409\n",
       "min     425.000000\n",
       "25%     799.000000\n",
       "50%     906.990000\n",
       "75%    1096.160000\n",
       "max    1662.940000"
      ]
     },
     "execution_count": 23,
     "metadata": {},
     "output_type": "execute_result"
    }
   ],
   "source": [
    "df.describe()"
   ]
  },
  {
   "cell_type": "markdown",
   "id": "f1ca04f1",
   "metadata": {},
   "source": [
    "## 3. Feature Engineering\n",
    "\n",
    "what affects the prices of the iPhone?\n",
    "Based on the Title Column of df.\n",
    "1. Condition:\n",
    "    Damaged = 3, \n",
    "    Good = 2, \n",
    "    Very Good / Excellent = 1, \n",
    "    Brand New = 0\n",
    "    \n",
    "2. Storage: 1TB = 0, 512GB = 1, 256GB = 2, 128GB = 3\n",
    "3. IMEI: if has check imei, prices may be less (needs to be compared)\n",
    "4. ESN: if has check ESN or bad ESN, prices may be less\n",
    "3. Color (?)\n",
    "4. Unlocked -> A factory unlock for your iPhone lets you swap out your current service carrier for a new carrier or several.\n",
    "    Unlocked tends to be more expensive.\n",
    "    1 unlock, 0 lock\n",
    "    \n",
    "Goals: Make new Column based on the categories that affected the prices."
   ]
  },
  {
   "cell_type": "code",
   "execution_count": 24,
   "id": "cc348051",
   "metadata": {},
   "outputs": [],
   "source": [
    "df['Title'] = df['Title'].str.lower() \n",
    "# make all lower case for easier cleaning"
   ]
  },
  {
   "cell_type": "code",
   "execution_count": 25,
   "id": "5b71114a",
   "metadata": {},
   "outputs": [],
   "source": [
    "# 1 if unlocked else 0\n",
    "df['carrier_lock'] = df['Title'].apply(lambda x: 1 if 'unlocked' in x else 0)"
   ]
  },
  {
   "cell_type": "code",
   "execution_count": 26,
   "id": "ae0b08db",
   "metadata": {},
   "outputs": [],
   "source": [
    "# Condition column function\n",
    "\n",
    "def check_words_exist(item_name):\n",
    "    # make a condition word list and categorize them\n",
    "    damaged_cond_word = ['cracked', 'broken', 'scratch','damage', 'bad', 'crack', 'dead']\n",
    "    good_cond_word = ['good', 'fair']\n",
    "    excellent_cond_word = ['excellent', 'very', 'pretty']\n",
    "    brand_new_word = ['brand', 'new', 'brandnew', 'sealed']\n",
    "    parts = ['spare', 'parts']\n",
    "    words = item_name.split()\n",
    "   \n",
    "    if any(w in words for w in damaged_cond_word):\n",
    "        return 3\n",
    "    \n",
    "    elif any(w in words for w in brand_new_word):\n",
    "        return 0\n",
    "    \n",
    "    elif any(w in words for w in parts):\n",
    "        return 4\n",
    "    \n",
    "    elif any(w in words for w in excellent_cond_word):\n",
    "        return 1\n",
    "    \n",
    "    elif any(w in words for w in good_cond_word):\n",
    "        # add extra condition\n",
    "        if any(w in words for w in excellent_cond_word):\n",
    "            return 1\n",
    "        return 2\n",
    "    \n",
    "    # if anything else not inside, return good condition\n",
    "    else:\n",
    "        if df.loc[df.Title == item_name].Price.values[0] < 800:\n",
    "            return 2\n",
    "        return 1\n",
    "    "
   ]
  },
  {
   "cell_type": "code",
   "execution_count": 27,
   "id": "1559e3b1",
   "metadata": {},
   "outputs": [],
   "source": [
    "df['cond'] = df['Title'].apply(check_words_exist)"
   ]
  },
  {
   "cell_type": "markdown",
   "id": "25c2842d",
   "metadata": {},
   "source": [
    "### Size of IPhone"
   ]
  },
  {
   "cell_type": "code",
   "execution_count": 28,
   "id": "b0d32094",
   "metadata": {},
   "outputs": [],
   "source": [
    "# take the phone storage size and drop na\n",
    "df['storage'] = df['Title'].str.extract(r'(\\d+tb|\\d+gb|\\d+\\s?gb|\\d+\\s?tb)')"
   ]
  },
  {
   "cell_type": "code",
   "execution_count": 29,
   "id": "9216d230",
   "metadata": {},
   "outputs": [],
   "source": [
    "# drop nulls\n",
    "df = df.dropna()"
   ]
  },
  {
   "cell_type": "code",
   "execution_count": 30,
   "id": "abde6167",
   "metadata": {},
   "outputs": [
    {
     "data": {
      "text/html": [
       "<div>\n",
       "<style scoped>\n",
       "    .dataframe tbody tr th:only-of-type {\n",
       "        vertical-align: middle;\n",
       "    }\n",
       "\n",
       "    .dataframe tbody tr th {\n",
       "        vertical-align: top;\n",
       "    }\n",
       "\n",
       "    .dataframe thead th {\n",
       "        text-align: right;\n",
       "    }\n",
       "</style>\n",
       "<table border=\"1\" class=\"dataframe\">\n",
       "  <thead>\n",
       "    <tr style=\"text-align: right;\">\n",
       "      <th></th>\n",
       "      <th>Title</th>\n",
       "      <th>Price</th>\n",
       "      <th>carrier_lock</th>\n",
       "      <th>cond</th>\n",
       "      <th>storage</th>\n",
       "    </tr>\n",
       "  </thead>\n",
       "  <tbody>\n",
       "  </tbody>\n",
       "</table>\n",
       "</div>"
      ],
      "text/plain": [
       "Empty DataFrame\n",
       "Columns: [Title, Price, carrier_lock, cond, storage]\n",
       "Index: []"
      ]
     },
     "execution_count": 30,
     "metadata": {},
     "output_type": "execute_result"
    }
   ],
   "source": [
    "# check for null\n",
    "df.loc[df['storage'].isnull()]"
   ]
  },
  {
   "cell_type": "code",
   "execution_count": 31,
   "id": "194c1a88",
   "metadata": {},
   "outputs": [],
   "source": [
    "# convert storage to float and make it categorical\n",
    "\n",
    "df['storage'] = df['storage'].apply(lambda x: x.replace('gb', '').replace('tb', ''))\n",
    "df['storage'] = pd.to_numeric(df['storage'])\n"
   ]
  },
  {
   "cell_type": "code",
   "execution_count": 32,
   "id": "f94e1b55",
   "metadata": {},
   "outputs": [],
   "source": [
    "df['storage'] = df['storage'].apply(lambda x: 1024 if x == 1 else x)\n",
    "df['storage'] = df['storage'].apply(lambda x: 1024 if x == 126 else x)"
   ]
  },
  {
   "cell_type": "code",
   "execution_count": 33,
   "id": "38072ae8",
   "metadata": {},
   "outputs": [
    {
     "data": {
      "text/html": [
       "<div>\n",
       "<style scoped>\n",
       "    .dataframe tbody tr th:only-of-type {\n",
       "        vertical-align: middle;\n",
       "    }\n",
       "\n",
       "    .dataframe tbody tr th {\n",
       "        vertical-align: top;\n",
       "    }\n",
       "\n",
       "    .dataframe thead th {\n",
       "        text-align: right;\n",
       "    }\n",
       "</style>\n",
       "<table border=\"1\" class=\"dataframe\">\n",
       "  <thead>\n",
       "    <tr style=\"text-align: right;\">\n",
       "      <th></th>\n",
       "      <th>Title</th>\n",
       "      <th>Price</th>\n",
       "      <th>carrier_lock</th>\n",
       "      <th>cond</th>\n",
       "      <th>storage</th>\n",
       "    </tr>\n",
       "  </thead>\n",
       "  <tbody>\n",
       "    <tr>\n",
       "      <th>0</th>\n",
       "      <td>apple iphone 14 pro max 512gb unlocked at&amp;t t-mobile verizon very good condition</td>\n",
       "      <td>884.95</td>\n",
       "      <td>1</td>\n",
       "      <td>1</td>\n",
       "      <td>512</td>\n",
       "    </tr>\n",
       "    <tr>\n",
       "      <th>1</th>\n",
       "      <td>apple iphone 14 pro max 256gb ( unlocked) us e sim - excellent</td>\n",
       "      <td>909.99</td>\n",
       "      <td>1</td>\n",
       "      <td>1</td>\n",
       "      <td>256</td>\n",
       "    </tr>\n",
       "    <tr>\n",
       "      <th>2</th>\n",
       "      <td>apple iphone 14 pro max - 128gb - deep purple (unlocked) smartphone</td>\n",
       "      <td>810.00</td>\n",
       "      <td>1</td>\n",
       "      <td>1</td>\n",
       "      <td>128</td>\n",
       "    </tr>\n",
       "    <tr>\n",
       "      <th>3</th>\n",
       "      <td>new listingapple iphone 14 pro max - 128gb -black unlocked</td>\n",
       "      <td>710.00</td>\n",
       "      <td>1</td>\n",
       "      <td>0</td>\n",
       "      <td>128</td>\n",
       "    </tr>\n",
       "    <tr>\n",
       "      <th>4</th>\n",
       "      <td>apple iphone 14 pro max 256gb ( unlocked) us e sim - very good</td>\n",
       "      <td>889.99</td>\n",
       "      <td>1</td>\n",
       "      <td>1</td>\n",
       "      <td>256</td>\n",
       "    </tr>\n",
       "    <tr>\n",
       "      <th>...</th>\n",
       "      <td>...</td>\n",
       "      <td>...</td>\n",
       "      <td>...</td>\n",
       "      <td>...</td>\n",
       "      <td>...</td>\n",
       "    </tr>\n",
       "    <tr>\n",
       "      <th>876</th>\n",
       "      <td>apple iphone 14 pro max - 256gb - space black (unlocked) a2651 (gsm)</td>\n",
       "      <td>940.00</td>\n",
       "      <td>1</td>\n",
       "      <td>2</td>\n",
       "      <td>256</td>\n",
       "    </tr>\n",
       "    <tr>\n",
       "      <th>877</th>\n",
       "      <td>apple iphone 14 pro max - 128gb - gold (verizon)</td>\n",
       "      <td>950.00</td>\n",
       "      <td>0</td>\n",
       "      <td>1</td>\n",
       "      <td>128</td>\n",
       "    </tr>\n",
       "    <tr>\n",
       "      <th>878</th>\n",
       "      <td>iphone 14 pro max 128gb silver unlocked</td>\n",
       "      <td>1008.98</td>\n",
       "      <td>1</td>\n",
       "      <td>1</td>\n",
       "      <td>128</td>\n",
       "    </tr>\n",
       "    <tr>\n",
       "      <th>879</th>\n",
       "      <td>apple iphone 14 pro max - 1tb - deep purple (t-mobile)</td>\n",
       "      <td>1300.00</td>\n",
       "      <td>0</td>\n",
       "      <td>1</td>\n",
       "      <td>1024</td>\n",
       "    </tr>\n",
       "    <tr>\n",
       "      <th>880</th>\n",
       "      <td>apple iphone 14 pro max - 128gb - deep purple (unlocked)</td>\n",
       "      <td>980.00</td>\n",
       "      <td>1</td>\n",
       "      <td>1</td>\n",
       "      <td>128</td>\n",
       "    </tr>\n",
       "  </tbody>\n",
       "</table>\n",
       "<p>858 rows × 5 columns</p>\n",
       "</div>"
      ],
      "text/plain": [
       "                                                                                Title  \\\n",
       "0    apple iphone 14 pro max 512gb unlocked at&t t-mobile verizon very good condition   \n",
       "1                      apple iphone 14 pro max 256gb ( unlocked) us e sim - excellent   \n",
       "2                 apple iphone 14 pro max - 128gb - deep purple (unlocked) smartphone   \n",
       "3                          new listingapple iphone 14 pro max - 128gb -black unlocked   \n",
       "4                      apple iphone 14 pro max 256gb ( unlocked) us e sim - very good   \n",
       "..                                                                                ...   \n",
       "876              apple iphone 14 pro max - 256gb - space black (unlocked) a2651 (gsm)   \n",
       "877                                  apple iphone 14 pro max - 128gb - gold (verizon)   \n",
       "878                                           iphone 14 pro max 128gb silver unlocked   \n",
       "879                            apple iphone 14 pro max - 1tb - deep purple (t-mobile)   \n",
       "880                          apple iphone 14 pro max - 128gb - deep purple (unlocked)   \n",
       "\n",
       "       Price  carrier_lock  cond  storage  \n",
       "0     884.95             1     1      512  \n",
       "1     909.99             1     1      256  \n",
       "2     810.00             1     1      128  \n",
       "3     710.00             1     0      128  \n",
       "4     889.99             1     1      256  \n",
       "..       ...           ...   ...      ...  \n",
       "876   940.00             1     2      256  \n",
       "877   950.00             0     1      128  \n",
       "878  1008.98             1     1      128  \n",
       "879  1300.00             0     1     1024  \n",
       "880   980.00             1     1      128  \n",
       "\n",
       "[858 rows x 5 columns]"
      ]
     },
     "execution_count": 33,
     "metadata": {},
     "output_type": "execute_result"
    }
   ],
   "source": [
    "# this data frame is ready for analyzing for machine learning\n",
    "# all data are in numbers.\n",
    "\n",
    "df"
   ]
  },
  {
   "cell_type": "markdown",
   "id": "5db880c9",
   "metadata": {},
   "source": [
    "# 4    Exploratory Data Analysis"
   ]
  },
  {
   "cell_type": "code",
   "execution_count": 41,
   "id": "227ee513",
   "metadata": {},
   "outputs": [],
   "source": [
    "# for exploratory data analysis, we change the column value to string.\n",
    "df_eda = df.copy()\n",
    "df_eda['carrier_lock'] = df_eda['carrier_lock'].apply(lambda x: 'unlocked' if x == 1 else 'locked')\n",
    "df_eda['storage'] = df_eda['storage'].astype(str)"
   ]
  },
  {
   "cell_type": "code",
   "execution_count": 45,
   "id": "af9ba9bf",
   "metadata": {},
   "outputs": [
    {
     "data": {
      "text/html": [
       "<div>\n",
       "<style scoped>\n",
       "    .dataframe tbody tr th:only-of-type {\n",
       "        vertical-align: middle;\n",
       "    }\n",
       "\n",
       "    .dataframe tbody tr th {\n",
       "        vertical-align: top;\n",
       "    }\n",
       "\n",
       "    .dataframe thead th {\n",
       "        text-align: right;\n",
       "    }\n",
       "</style>\n",
       "<table border=\"1\" class=\"dataframe\">\n",
       "  <thead>\n",
       "    <tr style=\"text-align: right;\">\n",
       "      <th></th>\n",
       "      <th>cond</th>\n",
       "      <th>Price</th>\n",
       "    </tr>\n",
       "  </thead>\n",
       "  <tbody>\n",
       "    <tr>\n",
       "      <th>0</th>\n",
       "      <td>0</td>\n",
       "      <td>986.329661</td>\n",
       "    </tr>\n",
       "    <tr>\n",
       "      <th>1</th>\n",
       "      <td>1</td>\n",
       "      <td>1016.858642</td>\n",
       "    </tr>\n",
       "    <tr>\n",
       "      <th>2</th>\n",
       "      <td>2</td>\n",
       "      <td>793.416882</td>\n",
       "    </tr>\n",
       "    <tr>\n",
       "      <th>3</th>\n",
       "      <td>3</td>\n",
       "      <td>650.697857</td>\n",
       "    </tr>\n",
       "    <tr>\n",
       "      <th>4</th>\n",
       "      <td>4</td>\n",
       "      <td>676.066667</td>\n",
       "    </tr>\n",
       "  </tbody>\n",
       "</table>\n",
       "</div>"
      ],
      "text/plain": [
       "   cond        Price\n",
       "0     0   986.329661\n",
       "1     1  1016.858642\n",
       "2     2   793.416882\n",
       "3     3   650.697857\n",
       "4     4   676.066667"
      ]
     },
     "execution_count": 45,
     "metadata": {},
     "output_type": "execute_result"
    }
   ],
   "source": [
    "df_eda.groupby('cond')['Price'].mean().reset_index()"
   ]
  },
  {
   "cell_type": "code",
   "execution_count": 53,
   "id": "7fbbf21e",
   "metadata": {},
   "outputs": [],
   "source": [
    "## price per storage\n",
    "price_per_storage_lock = df_eda.groupby(['storage', 'carrier_lock'])['Price'].mean().reset_index().sort_values('Price')"
   ]
  },
  {
   "cell_type": "code",
   "execution_count": 54,
   "id": "4e95a454",
   "metadata": {},
   "outputs": [
    {
     "data": {
      "text/html": [
       "<div>\n",
       "<style scoped>\n",
       "    .dataframe tbody tr th:only-of-type {\n",
       "        vertical-align: middle;\n",
       "    }\n",
       "\n",
       "    .dataframe tbody tr th {\n",
       "        vertical-align: top;\n",
       "    }\n",
       "\n",
       "    .dataframe thead th {\n",
       "        text-align: right;\n",
       "    }\n",
       "</style>\n",
       "<table border=\"1\" class=\"dataframe\">\n",
       "  <thead>\n",
       "    <tr style=\"text-align: right;\">\n",
       "      <th></th>\n",
       "      <th>storage</th>\n",
       "      <th>carrier_lock</th>\n",
       "      <th>Price</th>\n",
       "    </tr>\n",
       "  </thead>\n",
       "  <tbody>\n",
       "    <tr>\n",
       "      <th>2</th>\n",
       "      <td>128</td>\n",
       "      <td>locked</td>\n",
       "      <td>827.510193</td>\n",
       "    </tr>\n",
       "    <tr>\n",
       "      <th>4</th>\n",
       "      <td>256</td>\n",
       "      <td>locked</td>\n",
       "      <td>902.766250</td>\n",
       "    </tr>\n",
       "    <tr>\n",
       "      <th>3</th>\n",
       "      <td>128</td>\n",
       "      <td>unlocked</td>\n",
       "      <td>944.005621</td>\n",
       "    </tr>\n",
       "    <tr>\n",
       "      <th>5</th>\n",
       "      <td>256</td>\n",
       "      <td>unlocked</td>\n",
       "      <td>975.384429</td>\n",
       "    </tr>\n",
       "    <tr>\n",
       "      <th>6</th>\n",
       "      <td>512</td>\n",
       "      <td>locked</td>\n",
       "      <td>1008.273023</td>\n",
       "    </tr>\n",
       "    <tr>\n",
       "      <th>7</th>\n",
       "      <td>512</td>\n",
       "      <td>unlocked</td>\n",
       "      <td>1028.052353</td>\n",
       "    </tr>\n",
       "    <tr>\n",
       "      <th>0</th>\n",
       "      <td>1024</td>\n",
       "      <td>locked</td>\n",
       "      <td>1124.537442</td>\n",
       "    </tr>\n",
       "    <tr>\n",
       "      <th>1</th>\n",
       "      <td>1024</td>\n",
       "      <td>unlocked</td>\n",
       "      <td>1210.246275</td>\n",
       "    </tr>\n",
       "  </tbody>\n",
       "</table>\n",
       "</div>"
      ],
      "text/plain": [
       "  storage carrier_lock        Price\n",
       "2     128       locked   827.510193\n",
       "4     256       locked   902.766250\n",
       "3     128     unlocked   944.005621\n",
       "5     256     unlocked   975.384429\n",
       "6     512       locked  1008.273023\n",
       "7     512     unlocked  1028.052353\n",
       "0    1024       locked  1124.537442\n",
       "1    1024     unlocked  1210.246275"
      ]
     },
     "execution_count": 54,
     "metadata": {},
     "output_type": "execute_result"
    }
   ],
   "source": [
    "price_per_storage_lock"
   ]
  },
  {
   "cell_type": "code",
   "execution_count": 55,
   "id": "bc9a937a",
   "metadata": {},
   "outputs": [
    {
     "name": "stderr",
     "output_type": "stream",
     "text": [
      "C:\\Users\\azhar\\anaconda3\\lib\\site-packages\\seaborn\\_oldcore.py:1498: FutureWarning: is_categorical_dtype is deprecated and will be removed in a future version. Use isinstance(dtype, CategoricalDtype) instead\n",
      "  if pd.api.types.is_categorical_dtype(vector):\n",
      "C:\\Users\\azhar\\anaconda3\\lib\\site-packages\\seaborn\\_oldcore.py:1498: FutureWarning: is_categorical_dtype is deprecated and will be removed in a future version. Use isinstance(dtype, CategoricalDtype) instead\n",
      "  if pd.api.types.is_categorical_dtype(vector):\n",
      "C:\\Users\\azhar\\anaconda3\\lib\\site-packages\\seaborn\\_oldcore.py:1498: FutureWarning: is_categorical_dtype is deprecated and will be removed in a future version. Use isinstance(dtype, CategoricalDtype) instead\n",
      "  if pd.api.types.is_categorical_dtype(vector):\n",
      "C:\\Users\\azhar\\anaconda3\\lib\\site-packages\\seaborn\\_oldcore.py:1498: FutureWarning: is_categorical_dtype is deprecated and will be removed in a future version. Use isinstance(dtype, CategoricalDtype) instead\n",
      "  if pd.api.types.is_categorical_dtype(vector):\n"
     ]
    },
    {
     "data": {
      "image/png": "[encoded data removed]",
      "text/plain": [
       "<Figure size 640x480 with 1 Axes>"
      ]
     },
     "metadata": {},
     "output_type": "display_data"
    }
   ],
   "source": [
    "# From the data, iPhone prices from eBay that are unlocked are normally higher than locked ones.\n",
    "# Higher storage means higher prices too.\n",
    "\n",
    "sns.barplot(x=price_per_storage_lock['storage'].astype(str), y=price_per_storage_lock['Price'], hue=price_per_storage_lock['carrier_lock'].astype(str))\n",
    "\n",
    "plt.show()"
   ]
  },
  {
   "cell_type": "code",
   "execution_count": 57,
   "id": "4601f9df",
   "metadata": {},
   "outputs": [
    {
     "name": "stderr",
     "output_type": "stream",
     "text": [
      "C:\\Users\\azhar\\anaconda3\\lib\\site-packages\\seaborn\\_oldcore.py:1498: FutureWarning: is_categorical_dtype is deprecated and will be removed in a future version. Use isinstance(dtype, CategoricalDtype) instead\n",
      "  if pd.api.types.is_categorical_dtype(vector):\n",
      "C:\\Users\\azhar\\anaconda3\\lib\\site-packages\\seaborn\\_oldcore.py:1498: FutureWarning: is_categorical_dtype is deprecated and will be removed in a future version. Use isinstance(dtype, CategoricalDtype) instead\n",
      "  if pd.api.types.is_categorical_dtype(vector):\n",
      "C:\\Users\\azhar\\anaconda3\\lib\\site-packages\\seaborn\\_oldcore.py:1498: FutureWarning: is_categorical_dtype is deprecated and will be removed in a future version. Use isinstance(dtype, CategoricalDtype) instead\n",
      "  if pd.api.types.is_categorical_dtype(vector):\n",
      "C:\\Users\\azhar\\anaconda3\\lib\\site-packages\\seaborn\\_oldcore.py:1498: FutureWarning: is_categorical_dtype is deprecated and will be removed in a future version. Use isinstance(dtype, CategoricalDtype) instead\n",
      "  if pd.api.types.is_categorical_dtype(vector):\n",
      "C:\\Users\\azhar\\anaconda3\\lib\\site-packages\\seaborn\\_oldcore.py:1498: FutureWarning: is_categorical_dtype is deprecated and will be removed in a future version. Use isinstance(dtype, CategoricalDtype) instead\n",
      "  if pd.api.types.is_categorical_dtype(vector):\n",
      "C:\\Users\\azhar\\anaconda3\\lib\\site-packages\\seaborn\\_oldcore.py:1498: FutureWarning: is_categorical_dtype is deprecated and will be removed in a future version. Use isinstance(dtype, CategoricalDtype) instead\n",
      "  if pd.api.types.is_categorical_dtype(vector):\n",
      "C:\\Users\\azhar\\anaconda3\\lib\\site-packages\\seaborn\\_oldcore.py:1119: FutureWarning: use_inf_as_na option is deprecated and will be removed in a future version. Convert inf values to NaN before operating instead.\n",
      "  with pd.option_context('mode.use_inf_as_na', True):\n",
      "C:\\Users\\azhar\\anaconda3\\lib\\site-packages\\seaborn\\_oldcore.py:1498: FutureWarning: is_categorical_dtype is deprecated and will be removed in a future version. Use isinstance(dtype, CategoricalDtype) instead\n",
      "  if pd.api.types.is_categorical_dtype(vector):\n",
      "C:\\Users\\azhar\\anaconda3\\lib\\site-packages\\seaborn\\_oldcore.py:1119: FutureWarning: use_inf_as_na option is deprecated and will be removed in a future version. Convert inf values to NaN before operating instead.\n",
      "  with pd.option_context('mode.use_inf_as_na', True):\n",
      "C:\\Users\\azhar\\anaconda3\\lib\\site-packages\\seaborn\\_oldcore.py:1498: FutureWarning: is_categorical_dtype is deprecated and will be removed in a future version. Use isinstance(dtype, CategoricalDtype) instead\n",
      "  if pd.api.types.is_categorical_dtype(vector):\n",
      "C:\\Users\\azhar\\anaconda3\\lib\\site-packages\\seaborn\\_oldcore.py:1119: FutureWarning: use_inf_as_na option is deprecated and will be removed in a future version. Convert inf values to NaN before operating instead.\n",
      "  with pd.option_context('mode.use_inf_as_na', True):\n",
      "C:\\Users\\azhar\\anaconda3\\lib\\site-packages\\seaborn\\_oldcore.py:1498: FutureWarning: is_categorical_dtype is deprecated and will be removed in a future version. Use isinstance(dtype, CategoricalDtype) instead\n",
      "  if pd.api.types.is_categorical_dtype(vector):\n",
      "C:\\Users\\azhar\\anaconda3\\lib\\site-packages\\seaborn\\_oldcore.py:1119: FutureWarning: use_inf_as_na option is deprecated and will be removed in a future version. Convert inf values to NaN before operating instead.\n",
      "  with pd.option_context('mode.use_inf_as_na', True):\n",
      "C:\\Users\\azhar\\anaconda3\\lib\\site-packages\\seaborn\\_oldcore.py:1498: FutureWarning: is_categorical_dtype is deprecated and will be removed in a future version. Use isinstance(dtype, CategoricalDtype) instead\n",
      "  if pd.api.types.is_categorical_dtype(vector):\n",
      "C:\\Users\\azhar\\anaconda3\\lib\\site-packages\\seaborn\\_oldcore.py:1498: FutureWarning: is_categorical_dtype is deprecated and will be removed in a future version. Use isinstance(dtype, CategoricalDtype) instead\n",
      "  if pd.api.types.is_categorical_dtype(vector):\n",
      "C:\\Users\\azhar\\anaconda3\\lib\\site-packages\\seaborn\\_oldcore.py:1498: FutureWarning: is_categorical_dtype is deprecated and will be removed in a future version. Use isinstance(dtype, CategoricalDtype) instead\n",
      "  if pd.api.types.is_categorical_dtype(vector):\n",
      "C:\\Users\\azhar\\anaconda3\\lib\\site-packages\\seaborn\\_oldcore.py:1498: FutureWarning: is_categorical_dtype is deprecated and will be removed in a future version. Use isinstance(dtype, CategoricalDtype) instead\n",
      "  if pd.api.types.is_categorical_dtype(vector):\n",
      "C:\\Users\\azhar\\anaconda3\\lib\\site-packages\\seaborn\\_oldcore.py:1498: FutureWarning: is_categorical_dtype is deprecated and will be removed in a future version. Use isinstance(dtype, CategoricalDtype) instead\n",
      "  if pd.api.types.is_categorical_dtype(vector):\n",
      "C:\\Users\\azhar\\anaconda3\\lib\\site-packages\\seaborn\\_oldcore.py:1498: FutureWarning: is_categorical_dtype is deprecated and will be removed in a future version. Use isinstance(dtype, CategoricalDtype) instead\n",
      "  if pd.api.types.is_categorical_dtype(vector):\n",
      "C:\\Users\\azhar\\anaconda3\\lib\\site-packages\\seaborn\\_oldcore.py:1498: FutureWarning: is_categorical_dtype is deprecated and will be removed in a future version. Use isinstance(dtype, CategoricalDtype) instead\n",
      "  if pd.api.types.is_categorical_dtype(vector):\n",
      "C:\\Users\\azhar\\anaconda3\\lib\\site-packages\\seaborn\\_oldcore.py:1498: FutureWarning: is_categorical_dtype is deprecated and will be removed in a future version. Use isinstance(dtype, CategoricalDtype) instead\n",
      "  if pd.api.types.is_categorical_dtype(vector):\n",
      "C:\\Users\\azhar\\anaconda3\\lib\\site-packages\\seaborn\\_oldcore.py:1498: FutureWarning: is_categorical_dtype is deprecated and will be removed in a future version. Use isinstance(dtype, CategoricalDtype) instead\n",
      "  if pd.api.types.is_categorical_dtype(vector):\n",
      "C:\\Users\\azhar\\anaconda3\\lib\\site-packages\\seaborn\\_oldcore.py:1498: FutureWarning: is_categorical_dtype is deprecated and will be removed in a future version. Use isinstance(dtype, CategoricalDtype) instead\n",
      "  if pd.api.types.is_categorical_dtype(vector):\n",
      "C:\\Users\\azhar\\anaconda3\\lib\\site-packages\\seaborn\\_oldcore.py:1498: FutureWarning: is_categorical_dtype is deprecated and will be removed in a future version. Use isinstance(dtype, CategoricalDtype) instead\n",
      "  if pd.api.types.is_categorical_dtype(vector):\n",
      "C:\\Users\\azhar\\anaconda3\\lib\\site-packages\\seaborn\\_oldcore.py:1498: FutureWarning: is_categorical_dtype is deprecated and will be removed in a future version. Use isinstance(dtype, CategoricalDtype) instead\n",
      "  if pd.api.types.is_categorical_dtype(vector):\n",
      "C:\\Users\\azhar\\anaconda3\\lib\\site-packages\\seaborn\\_oldcore.py:1498: FutureWarning: is_categorical_dtype is deprecated and will be removed in a future version. Use isinstance(dtype, CategoricalDtype) instead\n",
      "  if pd.api.types.is_categorical_dtype(vector):\n",
      "C:\\Users\\azhar\\anaconda3\\lib\\site-packages\\seaborn\\_oldcore.py:1498: FutureWarning: is_categorical_dtype is deprecated and will be removed in a future version. Use isinstance(dtype, CategoricalDtype) instead\n",
      "  if pd.api.types.is_categorical_dtype(vector):\n",
      "C:\\Users\\azhar\\anaconda3\\lib\\site-packages\\seaborn\\_oldcore.py:1498: FutureWarning: is_categorical_dtype is deprecated and will be removed in a future version. Use isinstance(dtype, CategoricalDtype) instead\n",
      "  if pd.api.types.is_categorical_dtype(vector):\n",
      "C:\\Users\\azhar\\anaconda3\\lib\\site-packages\\seaborn\\_oldcore.py:1498: FutureWarning: is_categorical_dtype is deprecated and will be removed in a future version. Use isinstance(dtype, CategoricalDtype) instead\n",
      "  if pd.api.types.is_categorical_dtype(vector):\n",
      "C:\\Users\\azhar\\anaconda3\\lib\\site-packages\\seaborn\\_oldcore.py:1498: FutureWarning: is_categorical_dtype is deprecated and will be removed in a future version. Use isinstance(dtype, CategoricalDtype) instead\n",
      "  if pd.api.types.is_categorical_dtype(vector):\n",
      "C:\\Users\\azhar\\anaconda3\\lib\\site-packages\\seaborn\\_oldcore.py:1498: FutureWarning: is_categorical_dtype is deprecated and will be removed in a future version. Use isinstance(dtype, CategoricalDtype) instead\n",
      "  if pd.api.types.is_categorical_dtype(vector):\n",
      "C:\\Users\\azhar\\anaconda3\\lib\\site-packages\\seaborn\\_oldcore.py:1498: FutureWarning: is_categorical_dtype is deprecated and will be removed in a future version. Use isinstance(dtype, CategoricalDtype) instead\n",
      "  if pd.api.types.is_categorical_dtype(vector):\n",
      "C:\\Users\\azhar\\anaconda3\\lib\\site-packages\\seaborn\\_oldcore.py:1498: FutureWarning: is_categorical_dtype is deprecated and will be removed in a future version. Use isinstance(dtype, CategoricalDtype) instead\n",
      "  if pd.api.types.is_categorical_dtype(vector):\n",
      "C:\\Users\\azhar\\anaconda3\\lib\\site-packages\\seaborn\\_oldcore.py:1498: FutureWarning: is_categorical_dtype is deprecated and will be removed in a future version. Use isinstance(dtype, CategoricalDtype) instead\n",
      "  if pd.api.types.is_categorical_dtype(vector):\n",
      "C:\\Users\\azhar\\anaconda3\\lib\\site-packages\\seaborn\\_oldcore.py:1498: FutureWarning: is_categorical_dtype is deprecated and will be removed in a future version. Use isinstance(dtype, CategoricalDtype) instead\n",
      "  if pd.api.types.is_categorical_dtype(vector):\n",
      "C:\\Users\\azhar\\anaconda3\\lib\\site-packages\\seaborn\\_oldcore.py:1498: FutureWarning: is_categorical_dtype is deprecated and will be removed in a future version. Use isinstance(dtype, CategoricalDtype) instead\n",
      "  if pd.api.types.is_categorical_dtype(vector):\n",
      "C:\\Users\\azhar\\anaconda3\\lib\\site-packages\\seaborn\\_oldcore.py:1498: FutureWarning: is_categorical_dtype is deprecated and will be removed in a future version. Use isinstance(dtype, CategoricalDtype) instead\n",
      "  if pd.api.types.is_categorical_dtype(vector):\n"
     ]
    },
    {
     "data": {
      "text/plain": [
       "<seaborn.axisgrid.PairGrid at 0x1f8b234fa00>"
      ]
     },
     "execution_count": 57,
     "metadata": {},
     "output_type": "execute_result"
    },
    {
     "data": {
      "image/png": "[encoded data removed]",
      "text/plain": [
       "<Figure size 1000x1000 with 20 Axes>"
      ]
     },
     "metadata": {},
     "output_type": "display_data"
    }
   ],
   "source": [
    "sns.pairplot(df)\n",
    "plt.show()"
   ]
  },
  {
   "cell_type": "code",
   "execution_count": null,
   "id": "a75584a9",
   "metadata": {},
   "outputs": [],
   "source": []
  }
 ],
 "metadata": {
  "kernelspec": {
   "display_name": "Python 3 (ipykernel)",
   "language": "python",
   "name": "python3"
  },
  "language_info": {
   "codemirror_mode": {
    "name": "ipython",
    "version": 3
   },
   "file_extension": ".py",
   "mimetype": "text/x-python",
   "name": "python",
   "nbconvert_exporter": "python",
   "pygments_lexer": "ipython3",
   "version": "3.9.18"
  }
 },
 "nbformat": 4,
 "nbformat_minor": 5
}
